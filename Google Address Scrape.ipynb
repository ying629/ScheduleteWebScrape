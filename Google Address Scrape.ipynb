{
 "cells": [
  {
   "cell_type": "code",
   "execution_count": null,
   "id": "fe78e04d",
   "metadata": {},
   "outputs": [],
   "source": [
    "import csv\n",
    "\n",
    "with open(\"MensLax.csv\") as file_name:\n",
    "    file_read = csv.reader(file_name)\n",
    "\n",
    "    SchoolUrls = list(file_read)\n",
    "\n",
    "print(SchoolUrls)\n",
    "\n",
    "import requests\n",
    "from bs4 import BeautifulSoup\n",
    "import csv\n",
    "from time import sleep\n",
    "\n",
    "with open(\"A - Sheet1.csv\") as file:\n",
    "    file = csv.reader(file)\n",
    "\n",
    "    st = list(file) \n",
    "\n",
    "for i in st:\n",
    "    url = 'https://www.google.com/search?q='={i}&start=0'\n",
    "    header = {'User-Agent':'Mozilla/5.0 (Macintosh; Intel Mac OS X 10_15_7) AppleWebKit/537.36 (KHTML, like Gecko) Chrome/103.0.0.0 Safari/537.36'}\n",
    "    r = requests.get(url, headers=header)\n",
    "    soup = BeautifulSoup(r.content, 'html.parser')\n",
    "    divs = soup.find('div', class_='Z1hOCe')\n",
    "    try:\n",
    "        address = divs.find('span', class_='LrzXr').text\n",
    "    except:\n",
    "        address = ''\n",
    "    try:\n",
    "        company = soup.find_all('h2', class_='qrShPb kno-ecr-pt PZPZlf mfMhoc')[0].text\n",
    "    except:\n",
    "        company = ''\n",
    "\n",
    "    print(i, company, address)\n",
    "    sleep(2)\n",
    "    # print('slept 5s')\n"
   ]
  },
  {
   "cell_type": "code",
   "execution_count": null,
   "id": "5199e127",
   "metadata": {},
   "outputs": [],
   "source": []
  },
  {
   "cell_type": "code",
   "execution_count": null,
   "id": "a98decbc",
   "metadata": {},
   "outputs": [],
   "source": []
  }
 ],
 "metadata": {
  "kernelspec": {
   "display_name": "Python 3 (ipykernel)",
   "language": "python",
   "name": "python3"
  },
  "language_info": {
   "codemirror_mode": {
    "name": "ipython",
    "version": 3
   },
   "file_extension": ".py",
   "mimetype": "text/x-python",
   "name": "python",
   "nbconvert_exporter": "python",
   "pygments_lexer": "ipython3",
   "version": "3.9.12"
  }
 },
 "nbformat": 4,
 "nbformat_minor": 5
}
